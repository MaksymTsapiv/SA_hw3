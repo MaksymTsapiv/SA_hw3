{
 "cells": [
  {
   "cell_type": "markdown",
   "metadata": {},
   "source": [
    "# HOMEWORK 3: Flocking Models\n",
    "## Author: Maksym Tsapiv\n",
    "## Variant: 0\n"
   ]
  },
  {
   "cell_type": "markdown",
   "metadata": {},
   "source": [
    "### Metrics for the model:\n",
    "\n",
    ">* `psi` -- global alignment of the system as time evolves, we define the global alignment coefficient.\n",
    "\n",
    "![](img/psi.png)\n",
    "\n",
    ">* `c` -- the global clustering coefficient\n",
    "\n",
    "![](img/cn.png)"
   ]
  },
  {
   "cell_type": "markdown",
   "metadata": {},
   "source": [
    "### Model parameters:\n",
    "\n",
    ">* `vision`  -- basicaly how far our agents can see each other\n",
    "\n",
    ">* `num` -- number of agents (100)\n",
    "\n",
    ">* `world size` -- size of the world (50x50)\n",
    "\n",
    ">* `leader_num` -- number of leaders among the agents"
   ]
  },
  {
   "cell_type": "markdown",
   "metadata": {},
   "source": [
    "So starting with low `vision` and 0 `leaders`\n",
    "\n",
    "![](img/1.png)\n",
    "\n",
    "#### We can see that `global aligment` is pretty low, but `clustering cooficient` is very high.\n",
    "\n",
    "That because our world is pretty small and agents are moving pretty quickly so their direction is changing constantly because of periodic boundary conditions. And also because agents don't see much."
   ]
  },
  {
   "cell_type": "markdown",
   "metadata": {},
   "source": [
    "#### What if we increase the `vision`\n",
    "\n",
    "![](img/2.png)\n",
    "\n",
    " We can see that `clustering cooficient` is straight up a full `1`, that's because vision is basicaly covers almost the half of the world, and even though all the agents are in the same cluster, as they calculate their heading according to everyone else, the `psi` is low. "
   ]
  },
  {
   "cell_type": "markdown",
   "metadata": {},
   "source": [
    "Before the next experiment I'll explain who are `leaders`. So, among the all agents there are some number of `leaders` -- agents that make other follow them."
   ]
  },
  {
   "cell_type": "markdown",
   "metadata": {},
   "source": [
    "### Let's add some leaders! (20 leaders, 80 regular agents, low vision)\n",
    "\n",
    "![](img/3.png)\n",
    "\n",
    "We can see that finally our `psi` is growing and growing fast! As we expected, `leaders` are the game-changers here -- as they make everybody follow them, global alignment of the system is heading towards the `1`."
   ]
  },
  {
   "cell_type": "markdown",
   "metadata": {},
   "source": [
    "### Same as before but with bigger `vision`\n",
    "\n",
    "![](img/4.png)\n",
    "\n",
    "As agents can now see more, the `psi` is growing even faster."
   ]
  },
  {
   "cell_type": "markdown",
   "metadata": {},
   "source": [
    "### A lot of `leaders` with big vision\n",
    "\n",
    "![](img/5.png)\n",
    "\n",
    "\n",
    "No surprise here, with a lot of leaders they all are heading into 1 direction, so `psi` is `1` almost always, `clustering` is, obviously too."
   ]
  },
  {
   "cell_type": "markdown",
   "metadata": {},
   "source": [
    "So, that is basically it, we saw our model changing quite drastically throghout all these experiments, we considered different parameters and our result was not surprising by any mean, but that was fun nevertheless."
   ]
  }
 ],
 "metadata": {
  "interpreter": {
   "hash": "e7370f93d1d0cde622a1f8e1c04877d8463912d04d973331ad4851f04de6915a"
  },
  "kernelspec": {
   "display_name": "Python 3.10.8 64-bit",
   "language": "python",
   "name": "python3"
  },
  "language_info": {
   "codemirror_mode": {
    "name": "ipython",
    "version": 2
   },
   "file_extension": ".py",
   "mimetype": "text/x-python",
   "name": "python",
   "nbconvert_exporter": "python",
   "pygments_lexer": "ipython2",
   "version": "3.10.8"
  }
 },
 "nbformat": 4,
 "nbformat_minor": 0
}
